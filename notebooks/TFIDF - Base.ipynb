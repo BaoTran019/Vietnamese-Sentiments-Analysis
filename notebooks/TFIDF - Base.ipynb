{
 "cells": [
  {
   "cell_type": "code",
   "execution_count": 1,
   "id": "24760ea7",
   "metadata": {
    "_cell_guid": "b1076dfc-b9ad-4769-8c92-a6c4dae69d19",
    "_uuid": "8f2839f25d086af736a60e9eeb907d3b93b6e0e5",
    "execution": {
     "iopub.execute_input": "2025-04-29T00:37:42.976268Z",
     "iopub.status.busy": "2025-04-29T00:37:42.976025Z",
     "iopub.status.idle": "2025-04-29T00:37:46.336959Z",
     "shell.execute_reply": "2025-04-29T00:37:46.336147Z"
    },
    "papermill": {
     "duration": 3.367333,
     "end_time": "2025-04-29T00:37:46.338440",
     "exception": false,
     "start_time": "2025-04-29T00:37:42.971107",
     "status": "completed"
    },
    "tags": []
   },
   "outputs": [],
   "source": [
    "import numpy as np\n",
    "import pandas as pd\n",
    "import matplotlib.pyplot as plt\n",
    "import seaborn as sns"
   ]
  },
  {
   "cell_type": "markdown",
   "id": "50e53479",
   "metadata": {
    "papermill": {
     "duration": 0.002988,
     "end_time": "2025-04-29T00:37:46.345084",
     "exception": false,
     "start_time": "2025-04-29T00:37:46.342096",
     "status": "completed"
    },
    "tags": []
   },
   "source": [
    "---\n",
    "# Data Loading"
   ]
  },
  {
   "cell_type": "code",
   "execution_count": 2,
   "id": "d046f3bd",
   "metadata": {
    "execution": {
     "iopub.execute_input": "2025-04-29T00:37:46.352143Z",
     "iopub.status.busy": "2025-04-29T00:37:46.351854Z",
     "iopub.status.idle": "2025-04-29T00:37:46.417221Z",
     "shell.execute_reply": "2025-04-29T00:37:46.416516Z"
    },
    "papermill": {
     "duration": 0.070154,
     "end_time": "2025-04-29T00:37:46.418361",
     "exception": false,
     "start_time": "2025-04-29T00:37:46.348207",
     "status": "completed"
    },
    "tags": []
   },
   "outputs": [],
   "source": [
    "def convert(df):\n",
    "    df = df.map({\n",
    "        'negative': 0,\n",
    "        'neutral': 1,\n",
    "        'positive': 2\n",
    "    })\n",
    "    return df"
   ]
  },
  {
   "cell_type": "code",
   "execution_count": 3,
   "id": "a16dcab4",
   "metadata": {
    "execution": {
     "iopub.execute_input": "2025-04-29T00:37:46.425522Z",
     "iopub.status.busy": "2025-04-29T00:37:46.425314Z",
     "iopub.status.idle": "2025-04-29T00:37:46.512356Z",
     "shell.execute_reply": "2025-04-29T00:37:46.511736Z"
    },
    "papermill": {
     "duration": 0.091902,
     "end_time": "2025-04-29T00:37:46.513550",
     "exception": false,
     "start_time": "2025-04-29T00:37:46.421648",
     "status": "completed"
    },
    "tags": []
   },
   "outputs": [],
   "source": [
    "df_train = pd.read_csv('/kaggle/input/synthetic-vietnamese-students-feedback-corpus/synthetic_train.csv')\n",
    "df_test = pd.read_csv('/kaggle/input/synthetic-vietnamese-students-feedback-corpus/synthetic_val.csv')\n",
    "\n",
    "df_train['sentiment'] = convert(df_train['sentiment'])\n",
    "df_test['sentiment'] = convert(df_test['sentiment'])"
   ]
  },
  {
   "cell_type": "code",
   "execution_count": 4,
   "id": "52ad67b7",
   "metadata": {
    "execution": {
     "iopub.execute_input": "2025-04-29T00:37:46.520826Z",
     "iopub.status.busy": "2025-04-29T00:37:46.520613Z",
     "iopub.status.idle": "2025-04-29T00:37:46.540279Z",
     "shell.execute_reply": "2025-04-29T00:37:46.539454Z"
    },
    "papermill": {
     "duration": 0.024717,
     "end_time": "2025-04-29T00:37:46.541532",
     "exception": false,
     "start_time": "2025-04-29T00:37:46.516815",
     "status": "completed"
    },
    "tags": []
   },
   "outputs": [
    {
     "data": {
      "text/html": [
       "<div>\n",
       "<style scoped>\n",
       "    .dataframe tbody tr th:only-of-type {\n",
       "        vertical-align: middle;\n",
       "    }\n",
       "\n",
       "    .dataframe tbody tr th {\n",
       "        vertical-align: top;\n",
       "    }\n",
       "\n",
       "    .dataframe thead th {\n",
       "        text-align: right;\n",
       "    }\n",
       "</style>\n",
       "<table border=\"1\" class=\"dataframe\">\n",
       "  <thead>\n",
       "    <tr style=\"text-align: right;\">\n",
       "      <th></th>\n",
       "      <th>sentence</th>\n",
       "      <th>sentiment</th>\n",
       "      <th>topic</th>\n",
       "    </tr>\n",
       "  </thead>\n",
       "  <tbody>\n",
       "    <tr>\n",
       "      <th>0</th>\n",
       "      <td>Đội ngũ bảo trì quá thưa thớt dẫn đến không đả...</td>\n",
       "      <td>0</td>\n",
       "      <td>facility</td>\n",
       "    </tr>\n",
       "    <tr>\n",
       "      <th>1</th>\n",
       "      <td>The university's musical and artistic faciliti...</td>\n",
       "      <td>1</td>\n",
       "      <td>facility</td>\n",
       "    </tr>\n",
       "    <tr>\n",
       "      <th>2</th>\n",
       "      <td>Phương pháp giảng dạy phù hợp với các đối tượn...</td>\n",
       "      <td>1</td>\n",
       "      <td>curriculum</td>\n",
       "    </tr>\n",
       "    <tr>\n",
       "      <th>3</th>\n",
       "      <td>Chương trình học giúp tôi trở thành một chuyên...</td>\n",
       "      <td>2</td>\n",
       "      <td>curriculum</td>\n",
       "    </tr>\n",
       "    <tr>\n",
       "      <th>4</th>\n",
       "      <td>Tôi nghĩ rằng chương trình đào tạo có thể có t...</td>\n",
       "      <td>1</td>\n",
       "      <td>curriculum</td>\n",
       "    </tr>\n",
       "    <tr>\n",
       "      <th>...</th>\n",
       "      <td>...</td>\n",
       "      <td>...</td>\n",
       "      <td>...</td>\n",
       "    </tr>\n",
       "    <tr>\n",
       "      <th>8139</th>\n",
       "      <td>Hệ thống an ninh trong trường rất tốt và đảm b...</td>\n",
       "      <td>1</td>\n",
       "      <td>facility</td>\n",
       "    </tr>\n",
       "    <tr>\n",
       "      <th>8140</th>\n",
       "      <td>Cô giáo đã giúp tôi hiểu rõ hơn về môn học này.</td>\n",
       "      <td>1</td>\n",
       "      <td>others</td>\n",
       "    </tr>\n",
       "    <tr>\n",
       "      <th>8141</th>\n",
       "      <td>Anh/chị đã trở thành một người bạn đồng hành v...</td>\n",
       "      <td>2</td>\n",
       "      <td>others</td>\n",
       "    </tr>\n",
       "    <tr>\n",
       "      <th>8142</th>\n",
       "      <td>Chương trình học phù hợp với nhu cầu của các n...</td>\n",
       "      <td>1</td>\n",
       "      <td>curriculum</td>\n",
       "    </tr>\n",
       "    <tr>\n",
       "      <th>8143</th>\n",
       "      <td>Tôi cần chuyển sang học tại đại học khác để đá...</td>\n",
       "      <td>0</td>\n",
       "      <td>curriculum</td>\n",
       "    </tr>\n",
       "  </tbody>\n",
       "</table>\n",
       "<p>8144 rows × 3 columns</p>\n",
       "</div>"
      ],
      "text/plain": [
       "                                               sentence  sentiment       topic\n",
       "0     Đội ngũ bảo trì quá thưa thớt dẫn đến không đả...          0    facility\n",
       "1     The university's musical and artistic faciliti...          1    facility\n",
       "2     Phương pháp giảng dạy phù hợp với các đối tượn...          1  curriculum\n",
       "3     Chương trình học giúp tôi trở thành một chuyên...          2  curriculum\n",
       "4     Tôi nghĩ rằng chương trình đào tạo có thể có t...          1  curriculum\n",
       "...                                                 ...        ...         ...\n",
       "8139  Hệ thống an ninh trong trường rất tốt và đảm b...          1    facility\n",
       "8140    Cô giáo đã giúp tôi hiểu rõ hơn về môn học này.          1      others\n",
       "8141  Anh/chị đã trở thành một người bạn đồng hành v...          2      others\n",
       "8142  Chương trình học phù hợp với nhu cầu của các n...          1  curriculum\n",
       "8143  Tôi cần chuyển sang học tại đại học khác để đá...          0  curriculum\n",
       "\n",
       "[8144 rows x 3 columns]"
      ]
     },
     "execution_count": 4,
     "metadata": {},
     "output_type": "execute_result"
    }
   ],
   "source": [
    "df_train"
   ]
  },
  {
   "cell_type": "code",
   "execution_count": 5,
   "id": "83581c36",
   "metadata": {
    "execution": {
     "iopub.execute_input": "2025-04-29T00:37:46.549618Z",
     "iopub.status.busy": "2025-04-29T00:37:46.549421Z",
     "iopub.status.idle": "2025-04-29T00:37:46.568581Z",
     "shell.execute_reply": "2025-04-29T00:37:46.567707Z"
    },
    "papermill": {
     "duration": 0.024337,
     "end_time": "2025-04-29T00:37:46.569682",
     "exception": false,
     "start_time": "2025-04-29T00:37:46.545345",
     "status": "completed"
    },
    "tags": []
   },
   "outputs": [
    {
     "name": "stdout",
     "output_type": "stream",
     "text": [
      "<class 'pandas.core.frame.DataFrame'>\n",
      "RangeIndex: 8144 entries, 0 to 8143\n",
      "Data columns (total 3 columns):\n",
      " #   Column     Non-Null Count  Dtype \n",
      "---  ------     --------------  ----- \n",
      " 0   sentence   8144 non-null   object\n",
      " 1   sentiment  8144 non-null   int64 \n",
      " 2   topic      8144 non-null   object\n",
      "dtypes: int64(1), object(2)\n",
      "memory usage: 191.0+ KB\n"
     ]
    }
   ],
   "source": [
    "df_train.info()"
   ]
  },
  {
   "cell_type": "markdown",
   "id": "b66175e2",
   "metadata": {
    "papermill": {
     "duration": 0.003145,
     "end_time": "2025-04-29T00:37:46.576331",
     "exception": false,
     "start_time": "2025-04-29T00:37:46.573186",
     "status": "completed"
    },
    "tags": []
   },
   "source": [
    "---\n",
    "# Data Preprocessing"
   ]
  },
  {
   "cell_type": "code",
   "execution_count": 6,
   "id": "2f2e69b2",
   "metadata": {
    "execution": {
     "iopub.execute_input": "2025-04-29T00:37:46.583735Z",
     "iopub.status.busy": "2025-04-29T00:37:46.583539Z",
     "iopub.status.idle": "2025-04-29T00:37:46.587160Z",
     "shell.execute_reply": "2025-04-29T00:37:46.586659Z"
    },
    "papermill": {
     "duration": 0.008416,
     "end_time": "2025-04-29T00:37:46.588122",
     "exception": false,
     "start_time": "2025-04-29T00:37:46.579706",
     "status": "completed"
    },
    "tags": []
   },
   "outputs": [],
   "source": [
    "import re\n",
    "import string\n",
    "\n",
    "def preprocess(text):\n",
    "    text = text.lower()  # chuyển về chữ thường\n",
    "    text = re.sub(r'\\d+', '', text)  # xóa số\n",
    "    text = re.sub(rf\"[{string.punctuation}]\", '', text)  # xóa dấu câu\n",
    "    text = text.strip()  # xóa khoảng trắng đầu cuối\n",
    "    return text  # trả về văn bản đã làm sạch (tách từ bằng dấu cách)\n"
   ]
  },
  {
   "cell_type": "code",
   "execution_count": 7,
   "id": "1b2f982e",
   "metadata": {
    "execution": {
     "iopub.execute_input": "2025-04-29T00:37:46.595318Z",
     "iopub.status.busy": "2025-04-29T00:37:46.595127Z",
     "iopub.status.idle": "2025-04-29T00:37:46.648448Z",
     "shell.execute_reply": "2025-04-29T00:37:46.647960Z"
    },
    "papermill": {
     "duration": 0.058035,
     "end_time": "2025-04-29T00:37:46.649540",
     "exception": false,
     "start_time": "2025-04-29T00:37:46.591505",
     "status": "completed"
    },
    "tags": []
   },
   "outputs": [],
   "source": [
    "# Áp dụng hàm preprocess\n",
    "df_train['clean_text'] = df_train['sentence'].apply(preprocess)\n",
    "df_test['clean_text'] = df_test['sentence'].apply(preprocess)\n"
   ]
  },
  {
   "cell_type": "code",
   "execution_count": 8,
   "id": "0f35d005",
   "metadata": {
    "execution": {
     "iopub.execute_input": "2025-04-29T00:37:46.656901Z",
     "iopub.status.busy": "2025-04-29T00:37:46.656713Z",
     "iopub.status.idle": "2025-04-29T00:37:46.662117Z",
     "shell.execute_reply": "2025-04-29T00:37:46.661463Z"
    },
    "papermill": {
     "duration": 0.010413,
     "end_time": "2025-04-29T00:37:46.663210",
     "exception": false,
     "start_time": "2025-04-29T00:37:46.652797",
     "status": "completed"
    },
    "tags": []
   },
   "outputs": [
    {
     "data": {
      "text/plain": [
       "0       đội ngũ bảo trì quá thưa thớt dẫn đến không đả...\n",
       "1       the universitys musical and artistic facilitie...\n",
       "2       phương pháp giảng dạy phù hợp với các đối tượn...\n",
       "3       chương trình học giúp tôi trở thành một chuyên...\n",
       "4       tôi nghĩ rằng chương trình đào tạo có thể có t...\n",
       "                              ...                        \n",
       "8139    hệ thống an ninh trong trường rất tốt và đảm b...\n",
       "8140       cô giáo đã giúp tôi hiểu rõ hơn về môn học này\n",
       "8141    anhchị đã trở thành một người bạn đồng hành vô...\n",
       "8142    chương trình học phù hợp với nhu cầu của các n...\n",
       "8143    tôi cần chuyển sang học tại đại học khác để đá...\n",
       "Name: clean_text, Length: 8144, dtype: object"
      ]
     },
     "execution_count": 8,
     "metadata": {},
     "output_type": "execute_result"
    }
   ],
   "source": [
    "df_train['clean_text']"
   ]
  },
  {
   "cell_type": "code",
   "execution_count": 9,
   "id": "e18c1bab",
   "metadata": {
    "execution": {
     "iopub.execute_input": "2025-04-29T00:37:46.670504Z",
     "iopub.status.busy": "2025-04-29T00:37:46.670304Z",
     "iopub.status.idle": "2025-04-29T00:37:47.021688Z",
     "shell.execute_reply": "2025-04-29T00:37:47.021124Z"
    },
    "papermill": {
     "duration": 0.356384,
     "end_time": "2025-04-29T00:37:47.022957",
     "exception": false,
     "start_time": "2025-04-29T00:37:46.666573",
     "status": "completed"
    },
    "tags": []
   },
   "outputs": [],
   "source": [
    "from sklearn.feature_extraction.text import TfidfVectorizer\n",
    "\n",
    "vectorizer = TfidfVectorizer(max_features=5000)  # hoặc bỏ max_features để lấy hết\n",
    "X_train = vectorizer.fit_transform(df_train['clean_text'])\n",
    "X_test = vectorizer.transform(df_test['clean_text'])\n",
    "\n",
    "y_train = df_train['sentiment']\n",
    "y_test = df_test['sentiment']\n"
   ]
  },
  {
   "cell_type": "code",
   "execution_count": 10,
   "id": "3e40af7c",
   "metadata": {
    "execution": {
     "iopub.execute_input": "2025-04-29T00:37:47.030961Z",
     "iopub.status.busy": "2025-04-29T00:37:47.030568Z",
     "iopub.status.idle": "2025-04-29T00:37:47.299549Z",
     "shell.execute_reply": "2025-04-29T00:37:47.298707Z"
    },
    "papermill": {
     "duration": 0.274384,
     "end_time": "2025-04-29T00:37:47.300946",
     "exception": false,
     "start_time": "2025-04-29T00:37:47.026562",
     "status": "completed"
    },
    "tags": []
   },
   "outputs": [],
   "source": [
    "feature_names = vectorizer.get_feature_names_out()\n",
    "\n",
    "# Chuyển sparse matrix thành DataFrame\n",
    "X_train = pd.DataFrame(X_train.toarray(), columns=feature_names)\n",
    "X_test = pd.DataFrame(X_test.toarray(), columns=feature_names)"
   ]
  },
  {
   "cell_type": "code",
   "execution_count": 11,
   "id": "687f56a8",
   "metadata": {
    "execution": {
     "iopub.execute_input": "2025-04-29T00:37:47.310889Z",
     "iopub.status.busy": "2025-04-29T00:37:47.310658Z",
     "iopub.status.idle": "2025-04-29T00:37:47.338674Z",
     "shell.execute_reply": "2025-04-29T00:37:47.338005Z"
    },
    "papermill": {
     "duration": 0.033817,
     "end_time": "2025-04-29T00:37:47.339753",
     "exception": false,
     "start_time": "2025-04-29T00:37:47.305936",
     "status": "completed"
    },
    "tags": []
   },
   "outputs": [
    {
     "data": {
      "text/html": [
       "<div>\n",
       "<style scoped>\n",
       "    .dataframe tbody tr th:only-of-type {\n",
       "        vertical-align: middle;\n",
       "    }\n",
       "\n",
       "    .dataframe tbody tr th {\n",
       "        vertical-align: top;\n",
       "    }\n",
       "\n",
       "    .dataframe thead th {\n",
       "        text-align: right;\n",
       "    }\n",
       "</style>\n",
       "<table border=\"1\" class=\"dataframe\">\n",
       "  <thead>\n",
       "    <tr style=\"text-align: right;\">\n",
       "      <th></th>\n",
       "      <th>about</th>\n",
       "      <th>academic</th>\n",
       "      <th>access</th>\n",
       "      <th>accessibility</th>\n",
       "      <th>accessible</th>\n",
       "      <th>accommodate</th>\n",
       "      <th>accommodating</th>\n",
       "      <th>achieve</th>\n",
       "      <th>across</th>\n",
       "      <th>active</th>\n",
       "      <th>...</th>\n",
       "      <th>ẩn</th>\n",
       "      <th>ỏi</th>\n",
       "      <th>ồn</th>\n",
       "      <th>ổn</th>\n",
       "      <th>ụy</th>\n",
       "      <th>ủi</th>\n",
       "      <th>ủng</th>\n",
       "      <th>ức</th>\n",
       "      <th>ứng</th>\n",
       "      <th>ửng</th>\n",
       "    </tr>\n",
       "  </thead>\n",
       "  <tbody>\n",
       "    <tr>\n",
       "      <th>0</th>\n",
       "      <td>0.0</td>\n",
       "      <td>0.0</td>\n",
       "      <td>0.0</td>\n",
       "      <td>0.0</td>\n",
       "      <td>0.0</td>\n",
       "      <td>0.0</td>\n",
       "      <td>0.0</td>\n",
       "      <td>0.0</td>\n",
       "      <td>0.0</td>\n",
       "      <td>0.0</td>\n",
       "      <td>...</td>\n",
       "      <td>0.0</td>\n",
       "      <td>0.0</td>\n",
       "      <td>0.0</td>\n",
       "      <td>0.0</td>\n",
       "      <td>0.0</td>\n",
       "      <td>0.0</td>\n",
       "      <td>0.0</td>\n",
       "      <td>0.0</td>\n",
       "      <td>0.0</td>\n",
       "      <td>0.0</td>\n",
       "    </tr>\n",
       "    <tr>\n",
       "      <th>1</th>\n",
       "      <td>0.0</td>\n",
       "      <td>0.0</td>\n",
       "      <td>0.0</td>\n",
       "      <td>0.0</td>\n",
       "      <td>0.0</td>\n",
       "      <td>0.0</td>\n",
       "      <td>0.0</td>\n",
       "      <td>0.0</td>\n",
       "      <td>0.0</td>\n",
       "      <td>0.0</td>\n",
       "      <td>...</td>\n",
       "      <td>0.0</td>\n",
       "      <td>0.0</td>\n",
       "      <td>0.0</td>\n",
       "      <td>0.0</td>\n",
       "      <td>0.0</td>\n",
       "      <td>0.0</td>\n",
       "      <td>0.0</td>\n",
       "      <td>0.0</td>\n",
       "      <td>0.0</td>\n",
       "      <td>0.0</td>\n",
       "    </tr>\n",
       "    <tr>\n",
       "      <th>2</th>\n",
       "      <td>0.0</td>\n",
       "      <td>0.0</td>\n",
       "      <td>0.0</td>\n",
       "      <td>0.0</td>\n",
       "      <td>0.0</td>\n",
       "      <td>0.0</td>\n",
       "      <td>0.0</td>\n",
       "      <td>0.0</td>\n",
       "      <td>0.0</td>\n",
       "      <td>0.0</td>\n",
       "      <td>...</td>\n",
       "      <td>0.0</td>\n",
       "      <td>0.0</td>\n",
       "      <td>0.0</td>\n",
       "      <td>0.0</td>\n",
       "      <td>0.0</td>\n",
       "      <td>0.0</td>\n",
       "      <td>0.0</td>\n",
       "      <td>0.0</td>\n",
       "      <td>0.0</td>\n",
       "      <td>0.0</td>\n",
       "    </tr>\n",
       "    <tr>\n",
       "      <th>3</th>\n",
       "      <td>0.0</td>\n",
       "      <td>0.0</td>\n",
       "      <td>0.0</td>\n",
       "      <td>0.0</td>\n",
       "      <td>0.0</td>\n",
       "      <td>0.0</td>\n",
       "      <td>0.0</td>\n",
       "      <td>0.0</td>\n",
       "      <td>0.0</td>\n",
       "      <td>0.0</td>\n",
       "      <td>...</td>\n",
       "      <td>0.0</td>\n",
       "      <td>0.0</td>\n",
       "      <td>0.0</td>\n",
       "      <td>0.0</td>\n",
       "      <td>0.0</td>\n",
       "      <td>0.0</td>\n",
       "      <td>0.0</td>\n",
       "      <td>0.0</td>\n",
       "      <td>0.0</td>\n",
       "      <td>0.0</td>\n",
       "    </tr>\n",
       "    <tr>\n",
       "      <th>4</th>\n",
       "      <td>0.0</td>\n",
       "      <td>0.0</td>\n",
       "      <td>0.0</td>\n",
       "      <td>0.0</td>\n",
       "      <td>0.0</td>\n",
       "      <td>0.0</td>\n",
       "      <td>0.0</td>\n",
       "      <td>0.0</td>\n",
       "      <td>0.0</td>\n",
       "      <td>0.0</td>\n",
       "      <td>...</td>\n",
       "      <td>0.0</td>\n",
       "      <td>0.0</td>\n",
       "      <td>0.0</td>\n",
       "      <td>0.0</td>\n",
       "      <td>0.0</td>\n",
       "      <td>0.0</td>\n",
       "      <td>0.0</td>\n",
       "      <td>0.0</td>\n",
       "      <td>0.0</td>\n",
       "      <td>0.0</td>\n",
       "    </tr>\n",
       "    <tr>\n",
       "      <th>...</th>\n",
       "      <td>...</td>\n",
       "      <td>...</td>\n",
       "      <td>...</td>\n",
       "      <td>...</td>\n",
       "      <td>...</td>\n",
       "      <td>...</td>\n",
       "      <td>...</td>\n",
       "      <td>...</td>\n",
       "      <td>...</td>\n",
       "      <td>...</td>\n",
       "      <td>...</td>\n",
       "      <td>...</td>\n",
       "      <td>...</td>\n",
       "      <td>...</td>\n",
       "      <td>...</td>\n",
       "      <td>...</td>\n",
       "      <td>...</td>\n",
       "      <td>...</td>\n",
       "      <td>...</td>\n",
       "      <td>...</td>\n",
       "      <td>...</td>\n",
       "    </tr>\n",
       "    <tr>\n",
       "      <th>2031</th>\n",
       "      <td>0.0</td>\n",
       "      <td>0.0</td>\n",
       "      <td>0.0</td>\n",
       "      <td>0.0</td>\n",
       "      <td>0.0</td>\n",
       "      <td>0.0</td>\n",
       "      <td>0.0</td>\n",
       "      <td>0.0</td>\n",
       "      <td>0.0</td>\n",
       "      <td>0.0</td>\n",
       "      <td>...</td>\n",
       "      <td>0.0</td>\n",
       "      <td>0.0</td>\n",
       "      <td>0.0</td>\n",
       "      <td>0.0</td>\n",
       "      <td>0.0</td>\n",
       "      <td>0.0</td>\n",
       "      <td>0.0</td>\n",
       "      <td>0.0</td>\n",
       "      <td>0.0</td>\n",
       "      <td>0.0</td>\n",
       "    </tr>\n",
       "    <tr>\n",
       "      <th>2032</th>\n",
       "      <td>0.0</td>\n",
       "      <td>0.0</td>\n",
       "      <td>0.0</td>\n",
       "      <td>0.0</td>\n",
       "      <td>0.0</td>\n",
       "      <td>0.0</td>\n",
       "      <td>0.0</td>\n",
       "      <td>0.0</td>\n",
       "      <td>0.0</td>\n",
       "      <td>0.0</td>\n",
       "      <td>...</td>\n",
       "      <td>0.0</td>\n",
       "      <td>0.0</td>\n",
       "      <td>0.0</td>\n",
       "      <td>0.0</td>\n",
       "      <td>0.0</td>\n",
       "      <td>0.0</td>\n",
       "      <td>0.0</td>\n",
       "      <td>0.0</td>\n",
       "      <td>0.0</td>\n",
       "      <td>0.0</td>\n",
       "    </tr>\n",
       "    <tr>\n",
       "      <th>2033</th>\n",
       "      <td>0.0</td>\n",
       "      <td>0.0</td>\n",
       "      <td>0.0</td>\n",
       "      <td>0.0</td>\n",
       "      <td>0.0</td>\n",
       "      <td>0.0</td>\n",
       "      <td>0.0</td>\n",
       "      <td>0.0</td>\n",
       "      <td>0.0</td>\n",
       "      <td>0.0</td>\n",
       "      <td>...</td>\n",
       "      <td>0.0</td>\n",
       "      <td>0.0</td>\n",
       "      <td>0.0</td>\n",
       "      <td>0.0</td>\n",
       "      <td>0.0</td>\n",
       "      <td>0.0</td>\n",
       "      <td>0.0</td>\n",
       "      <td>0.0</td>\n",
       "      <td>0.0</td>\n",
       "      <td>0.0</td>\n",
       "    </tr>\n",
       "    <tr>\n",
       "      <th>2034</th>\n",
       "      <td>0.0</td>\n",
       "      <td>0.0</td>\n",
       "      <td>0.0</td>\n",
       "      <td>0.0</td>\n",
       "      <td>0.0</td>\n",
       "      <td>0.0</td>\n",
       "      <td>0.0</td>\n",
       "      <td>0.0</td>\n",
       "      <td>0.0</td>\n",
       "      <td>0.0</td>\n",
       "      <td>...</td>\n",
       "      <td>0.0</td>\n",
       "      <td>0.0</td>\n",
       "      <td>0.0</td>\n",
       "      <td>0.0</td>\n",
       "      <td>0.0</td>\n",
       "      <td>0.0</td>\n",
       "      <td>0.0</td>\n",
       "      <td>0.0</td>\n",
       "      <td>0.0</td>\n",
       "      <td>0.0</td>\n",
       "    </tr>\n",
       "    <tr>\n",
       "      <th>2035</th>\n",
       "      <td>0.0</td>\n",
       "      <td>0.0</td>\n",
       "      <td>0.0</td>\n",
       "      <td>0.0</td>\n",
       "      <td>0.0</td>\n",
       "      <td>0.0</td>\n",
       "      <td>0.0</td>\n",
       "      <td>0.0</td>\n",
       "      <td>0.0</td>\n",
       "      <td>0.0</td>\n",
       "      <td>...</td>\n",
       "      <td>0.0</td>\n",
       "      <td>0.0</td>\n",
       "      <td>0.0</td>\n",
       "      <td>0.0</td>\n",
       "      <td>0.0</td>\n",
       "      <td>0.0</td>\n",
       "      <td>0.0</td>\n",
       "      <td>0.0</td>\n",
       "      <td>0.0</td>\n",
       "      <td>0.0</td>\n",
       "    </tr>\n",
       "  </tbody>\n",
       "</table>\n",
       "<p>2036 rows × 2447 columns</p>\n",
       "</div>"
      ],
      "text/plain": [
       "      about  academic  access  accessibility  accessible  accommodate  \\\n",
       "0       0.0       0.0     0.0            0.0         0.0          0.0   \n",
       "1       0.0       0.0     0.0            0.0         0.0          0.0   \n",
       "2       0.0       0.0     0.0            0.0         0.0          0.0   \n",
       "3       0.0       0.0     0.0            0.0         0.0          0.0   \n",
       "4       0.0       0.0     0.0            0.0         0.0          0.0   \n",
       "...     ...       ...     ...            ...         ...          ...   \n",
       "2031    0.0       0.0     0.0            0.0         0.0          0.0   \n",
       "2032    0.0       0.0     0.0            0.0         0.0          0.0   \n",
       "2033    0.0       0.0     0.0            0.0         0.0          0.0   \n",
       "2034    0.0       0.0     0.0            0.0         0.0          0.0   \n",
       "2035    0.0       0.0     0.0            0.0         0.0          0.0   \n",
       "\n",
       "      accommodating  achieve  across  active  ...   ẩn   ỏi   ồn   ổn   ụy  \\\n",
       "0               0.0      0.0     0.0     0.0  ...  0.0  0.0  0.0  0.0  0.0   \n",
       "1               0.0      0.0     0.0     0.0  ...  0.0  0.0  0.0  0.0  0.0   \n",
       "2               0.0      0.0     0.0     0.0  ...  0.0  0.0  0.0  0.0  0.0   \n",
       "3               0.0      0.0     0.0     0.0  ...  0.0  0.0  0.0  0.0  0.0   \n",
       "4               0.0      0.0     0.0     0.0  ...  0.0  0.0  0.0  0.0  0.0   \n",
       "...             ...      ...     ...     ...  ...  ...  ...  ...  ...  ...   \n",
       "2031            0.0      0.0     0.0     0.0  ...  0.0  0.0  0.0  0.0  0.0   \n",
       "2032            0.0      0.0     0.0     0.0  ...  0.0  0.0  0.0  0.0  0.0   \n",
       "2033            0.0      0.0     0.0     0.0  ...  0.0  0.0  0.0  0.0  0.0   \n",
       "2034            0.0      0.0     0.0     0.0  ...  0.0  0.0  0.0  0.0  0.0   \n",
       "2035            0.0      0.0     0.0     0.0  ...  0.0  0.0  0.0  0.0  0.0   \n",
       "\n",
       "       ủi  ủng   ức  ứng  ửng  \n",
       "0     0.0  0.0  0.0  0.0  0.0  \n",
       "1     0.0  0.0  0.0  0.0  0.0  \n",
       "2     0.0  0.0  0.0  0.0  0.0  \n",
       "3     0.0  0.0  0.0  0.0  0.0  \n",
       "4     0.0  0.0  0.0  0.0  0.0  \n",
       "...   ...  ...  ...  ...  ...  \n",
       "2031  0.0  0.0  0.0  0.0  0.0  \n",
       "2032  0.0  0.0  0.0  0.0  0.0  \n",
       "2033  0.0  0.0  0.0  0.0  0.0  \n",
       "2034  0.0  0.0  0.0  0.0  0.0  \n",
       "2035  0.0  0.0  0.0  0.0  0.0  \n",
       "\n",
       "[2036 rows x 2447 columns]"
      ]
     },
     "execution_count": 11,
     "metadata": {},
     "output_type": "execute_result"
    }
   ],
   "source": [
    "X_test"
   ]
  },
  {
   "cell_type": "code",
   "execution_count": 12,
   "id": "2b332177",
   "metadata": {
    "execution": {
     "iopub.execute_input": "2025-04-29T00:37:47.348226Z",
     "iopub.status.busy": "2025-04-29T00:37:47.347993Z",
     "iopub.status.idle": "2025-04-29T00:37:47.352368Z",
     "shell.execute_reply": "2025-04-29T00:37:47.351635Z"
    },
    "papermill": {
     "duration": 0.009873,
     "end_time": "2025-04-29T00:37:47.353502",
     "exception": false,
     "start_time": "2025-04-29T00:37:47.343629",
     "status": "completed"
    },
    "tags": []
   },
   "outputs": [],
   "source": [
    "def plot_cm(model, y_test, y_pred, model_name):\n",
    "    cm = confusion_matrix(y_test, y_pred)\n",
    "\n",
    "    labels = model.classes_\n",
    "    plt.figure(figsize=(8, 6))\n",
    "    sns.heatmap(cm, annot=True, fmt='d', cmap='Greens',\n",
    "                xticklabels=labels, yticklabels=labels)\n",
    "    plt.xlabel('Predicted')\n",
    "    plt.ylabel('Actual')\n",
    "    plt.title(f'Confusion Matrix - {model_name}')\n",
    "    plt.show()\n"
   ]
  },
  {
   "cell_type": "code",
   "execution_count": 13,
   "id": "b5d403e9",
   "metadata": {
    "execution": {
     "iopub.execute_input": "2025-04-29T00:37:47.361821Z",
     "iopub.status.busy": "2025-04-29T00:37:47.361592Z",
     "iopub.status.idle": "2025-04-29T00:37:47.861888Z",
     "shell.execute_reply": "2025-04-29T00:37:47.861288Z"
    },
    "papermill": {
     "duration": 0.506061,
     "end_time": "2025-04-29T00:37:47.863284",
     "exception": false,
     "start_time": "2025-04-29T00:37:47.357223",
     "status": "completed"
    },
    "tags": []
   },
   "outputs": [],
   "source": [
    "from sklearn.ensemble import RandomForestClassifier\n",
    "from sklearn.metrics import accuracy_score, confusion_matrix, classification_report\n",
    "\n",
    "def train_rf(X_train, X_test, y_train, y_test):\n",
    "    model = RandomForestClassifier(n_estimators=100, random_state=42)\n",
    "    model.fit(X_train, y_train)\n",
    "\n",
    "    y_pred = model.predict(X_test)\n",
    "\n",
    "    print(\"\\nClassification Report:\\n\", classification_report(y_test, y_pred))\n",
    "\n",
    "    plot_cm(model, y_test, y_pred, 'RandomForestClassifier')\n",
    "    return model"
   ]
  },
  {
   "cell_type": "code",
   "execution_count": 14,
   "id": "f7231b1e",
   "metadata": {
    "execution": {
     "iopub.execute_input": "2025-04-29T00:37:47.871909Z",
     "iopub.status.busy": "2025-04-29T00:37:47.871684Z",
     "iopub.status.idle": "2025-04-29T00:37:54.481396Z",
     "shell.execute_reply": "2025-04-29T00:37:54.480668Z"
    },
    "papermill": {
     "duration": 6.615392,
     "end_time": "2025-04-29T00:37:54.482705",
     "exception": false,
     "start_time": "2025-04-29T00:37:47.867313",
     "status": "completed"
    },
    "tags": []
   },
   "outputs": [
    {
     "name": "stdout",
     "output_type": "stream",
     "text": [
      "\n",
      "Classification Report:\n",
      "               precision    recall  f1-score   support\n",
      "\n",
      "           0       0.91      0.96      0.94       686\n",
      "           1       0.77      0.70      0.73       670\n",
      "           2       0.77      0.78      0.78       680\n",
      "\n",
      "    accuracy                           0.82      2036\n",
      "   macro avg       0.81      0.82      0.82      2036\n",
      "weighted avg       0.82      0.82      0.82      2036\n",
      "\n"
     ]
    },
    {
     "data": {
      "image/png": "[encoded data removed]",
      "text/plain": [
       "<Figure size 800x600 with 2 Axes>"
      ]
     },
     "metadata": {},
     "output_type": "display_data"
    }
   ],
   "source": [
    "rf_model = train_rf(X_train, X_test, y_train, y_test)"
   ]
  },
  {
   "cell_type": "code",
   "execution_count": 15,
   "id": "aa4c746a",
   "metadata": {
    "execution": {
     "iopub.execute_input": "2025-04-29T00:37:54.493237Z",
     "iopub.status.busy": "2025-04-29T00:37:54.493009Z",
     "iopub.status.idle": "2025-04-29T00:37:54.497663Z",
     "shell.execute_reply": "2025-04-29T00:37:54.497105Z"
    },
    "papermill": {
     "duration": 0.011179,
     "end_time": "2025-04-29T00:37:54.498684",
     "exception": false,
     "start_time": "2025-04-29T00:37:54.487505",
     "status": "completed"
    },
    "tags": []
   },
   "outputs": [],
   "source": [
    "from sklearn.svm import SVC\n",
    "from sklearn.metrics import accuracy_score, confusion_matrix, classification_report\n",
    "import seaborn as sns\n",
    "import matplotlib.pyplot as plt\n",
    "\n",
    "def train_svm(X_train, X_test, y_train, y_test):\n",
    "    model = SVC(kernel='linear', probability=True, random_state=42)  # Có thể đổi kernel\n",
    "    model.fit(X_train, y_train)\n",
    "\n",
    "    y_pred = model.predict(X_test)\n",
    "\n",
    "    print(\"\\nClassification Report:\\n\", classification_report(y_test, y_pred))\n",
    "\n",
    "    plot_cm(model, y_test, y_pred, 'SVM')\n",
    "    return model"
   ]
  },
  {
   "cell_type": "code",
   "execution_count": 16,
   "id": "e437aa16",
   "metadata": {
    "execution": {
     "iopub.execute_input": "2025-04-29T00:37:54.508748Z",
     "iopub.status.busy": "2025-04-29T00:37:54.508540Z",
     "iopub.status.idle": "2025-04-29T00:42:50.557904Z",
     "shell.execute_reply": "2025-04-29T00:42:50.557125Z"
    },
    "papermill": {
     "duration": 296.060172,
     "end_time": "2025-04-29T00:42:50.563710",
     "exception": false,
     "start_time": "2025-04-29T00:37:54.503538",
     "status": "completed"
    },
    "tags": []
   },
   "outputs": [
    {
     "name": "stdout",
     "output_type": "stream",
     "text": [
      "\n",
      "Classification Report:\n",
      "               precision    recall  f1-score   support\n",
      "\n",
      "           0       0.94      0.96      0.95       686\n",
      "           1       0.73      0.74      0.74       670\n",
      "           2       0.77      0.74      0.75       680\n",
      "\n",
      "    accuracy                           0.81      2036\n",
      "   macro avg       0.81      0.81      0.81      2036\n",
      "weighted avg       0.81      0.81      0.81      2036\n",
      "\n"
     ]
    },
    {
     "data": {
      "image/png": "[encoded data removed]",
      "text/plain": [
       "<Figure size 800x600 with 2 Axes>"
      ]
     },
     "metadata": {},
     "output_type": "display_data"
    }
   ],
   "source": [
    "svm_model = train_svm(X_train, X_test, y_train, y_test)"
   ]
  },
  {
   "cell_type": "code",
   "execution_count": 17,
   "id": "fec58a27",
   "metadata": {
    "execution": {
     "iopub.execute_input": "2025-04-29T00:42:50.573679Z",
     "iopub.status.busy": "2025-04-29T00:42:50.573471Z",
     "iopub.status.idle": "2025-04-29T00:42:50.930456Z",
     "shell.execute_reply": "2025-04-29T00:42:50.929879Z"
    },
    "papermill": {
     "duration": 0.363313,
     "end_time": "2025-04-29T00:42:50.931706",
     "exception": false,
     "start_time": "2025-04-29T00:42:50.568393",
     "status": "completed"
    },
    "tags": []
   },
   "outputs": [],
   "source": [
    "from xgboost import XGBClassifier\n",
    "from sklearn.metrics import classification_report, confusion_matrix\n",
    "import seaborn as sns\n",
    "import matplotlib.pyplot as plt\n",
    "\n",
    "def train_xgboost(X_train, X_test, y_train, y_test):\n",
    "    num_classes = len(set(y_train))  # Số lớp\n",
    "\n",
    "    model = XGBClassifier(\n",
    "        objective='multi:softprob',\n",
    "        num_class=num_classes,\n",
    "        use_label_encoder=False,\n",
    "        eval_metric='mlogloss',\n",
    "        random_state=42\n",
    "    )\n",
    "\n",
    "    model.fit(X_train, y_train)\n",
    "\n",
    "    y_pred = model.predict(X_test)\n",
    "\n",
    "    print(\"\\nClassification Report:\\n\", classification_report(y_test, y_pred))\n",
    "    \n",
    "    plot_cm(model, y_test, y_pred, 'XGBoost')\n",
    "    return model"
   ]
  },
  {
   "cell_type": "code",
   "execution_count": 18,
   "id": "0320ac33",
   "metadata": {
    "execution": {
     "iopub.execute_input": "2025-04-29T00:42:50.946959Z",
     "iopub.status.busy": "2025-04-29T00:42:50.946334Z",
     "iopub.status.idle": "2025-04-29T00:43:02.235300Z",
     "shell.execute_reply": "2025-04-29T00:43:02.234534Z"
    },
    "papermill": {
     "duration": 11.299001,
     "end_time": "2025-04-29T00:43:02.236449",
     "exception": false,
     "start_time": "2025-04-29T00:42:50.937448",
     "status": "completed"
    },
    "tags": []
   },
   "outputs": [
    {
     "name": "stdout",
     "output_type": "stream",
     "text": [
      "\n",
      "Classification Report:\n",
      "               precision    recall  f1-score   support\n",
      "\n",
      "           0       0.94      0.96      0.95       686\n",
      "           1       0.76      0.77      0.77       670\n",
      "           2       0.80      0.78      0.79       680\n",
      "\n",
      "    accuracy                           0.84      2036\n",
      "   macro avg       0.84      0.84      0.84      2036\n",
      "weighted avg       0.84      0.84      0.84      2036\n",
      "\n"
     ]
    },
    {
     "data": {
      "image/png": "[encoded data removed]",
      "text/plain": [
       "<Figure size 800x600 with 2 Axes>"
      ]
     },
     "metadata": {},
     "output_type": "display_data"
    }
   ],
   "source": [
    "xgb_model = train_xgboost(X_train, X_test, y_train, y_test)"
   ]
  },
  {
   "cell_type": "code",
   "execution_count": 19,
   "id": "d19a53e0",
   "metadata": {
    "execution": {
     "iopub.execute_input": "2025-04-29T00:43:02.248262Z",
     "iopub.status.busy": "2025-04-29T00:43:02.248008Z",
     "iopub.status.idle": "2025-04-29T00:43:17.122719Z",
     "shell.execute_reply": "2025-04-29T00:43:17.122121Z"
    },
    "papermill": {
     "duration": 14.881956,
     "end_time": "2025-04-29T00:43:17.124055",
     "exception": false,
     "start_time": "2025-04-29T00:43:02.242099",
     "status": "completed"
    },
    "tags": []
   },
   "outputs": [
    {
     "name": "stderr",
     "output_type": "stream",
     "text": [
      "2025-04-29 00:43:04.482161: E external/local_xla/xla/stream_executor/cuda/cuda_fft.cc:477] Unable to register cuFFT factory: Attempting to register factory for plugin cuFFT when one has already been registered\n",
      "WARNING: All log messages before absl::InitializeLog() is called are written to STDERR\n",
      "E0000 00:00:1745887384.802537      19 cuda_dnn.cc:8310] Unable to register cuDNN factory: Attempting to register factory for plugin cuDNN when one has already been registered\n",
      "E0000 00:00:1745887384.886702      19 cuda_blas.cc:1418] Unable to register cuBLAS factory: Attempting to register factory for plugin cuBLAS when one has already been registered\n"
     ]
    }
   ],
   "source": [
    "import tensorflow as tf\n",
    "from tensorflow.keras.models import Sequential\n",
    "from tensorflow.keras.layers import Dense\n",
    "from tensorflow.keras.optimizers import Adam\n",
    "from sklearn.metrics import accuracy_score, confusion_matrix, classification_report\n",
    "import matplotlib.pyplot as plt\n",
    "import seaborn as sns\n",
    "\n",
    "def train_nn(X_train, X_test, y_train, y_test, num_classes):\n",
    "    # Xây dựng mô hình\n",
    "    model = Sequential()\n",
    "    model.add(Dense(256, activation='relu', input_shape=(X_train.shape[1],)))\n",
    "    model.add(Dense(64, activation='relu'))\n",
    "    model.add(Dense(num_classes, activation='softmax'))  # softmax cho multi-class classification\n",
    "\n",
    "    # Compile mô hình\n",
    "    model.compile(optimizer=Adam(learning_rate=0.001),\n",
    "                  loss='sparse_categorical_crossentropy',  # Nếu y là số nguyên (0,1,2..)\n",
    "                  metrics=['accuracy'])\n",
    "\n",
    "    # Huấn luyện mô hình\n",
    "    history = model.fit(X_train, y_train, epochs=20, batch_size=16, validation_data=(X_test, y_test), verbose=1)\n",
    "\n",
    "    # Dự đoán\n",
    "    y_pred = model.predict(X_test)\n",
    "    y_pred_classes = y_pred.argmax(axis=1)\n",
    "\n",
    "    # Đánh giá\n",
    "    print(\"Accuracy:\", accuracy_score(y_test, y_pred_classes))\n",
    "    print(\"\\nClassification Report:\\n\", classification_report(y_test, y_pred_classes))\n",
    "\n",
    "    # Confusion Matrix\n",
    "    cm = confusion_matrix(y_test, y_pred_classes)\n",
    "    labels = list(range(num_classes))\n",
    "\n",
    "    plt.figure(figsize=(8, 6))\n",
    "    sns.heatmap(cm, annot=True, fmt='d', cmap='Greens',\n",
    "                xticklabels=labels, yticklabels=labels)\n",
    "    plt.xlabel('Predicted')\n",
    "    plt.ylabel('Actual')\n",
    "    plt.title('Confusion Matrix - Neural Network')\n",
    "    plt.show()\n",
    "\n",
    "    return model\n"
   ]
  },
  {
   "cell_type": "code",
   "execution_count": 20,
   "id": "8d666d58",
   "metadata": {
    "execution": {
     "iopub.execute_input": "2025-04-29T00:43:17.135796Z",
     "iopub.status.busy": "2025-04-29T00:43:17.135356Z",
     "iopub.status.idle": "2025-04-29T00:43:41.410786Z",
     "shell.execute_reply": "2025-04-29T00:43:41.410095Z"
    },
    "papermill": {
     "duration": 24.282356,
     "end_time": "2025-04-29T00:43:41.411956",
     "exception": false,
     "start_time": "2025-04-29T00:43:17.129600",
     "status": "completed"
    },
    "tags": []
   },
   "outputs": [
    {
     "name": "stderr",
     "output_type": "stream",
     "text": [
      "/usr/local/lib/python3.11/dist-packages/keras/src/layers/core/dense.py:87: UserWarning: Do not pass an `input_shape`/`input_dim` argument to a layer. When using Sequential models, prefer using an `Input(shape)` object as the first layer in the model instead.\n",
      "  super().__init__(activity_regularizer=activity_regularizer, **kwargs)\n",
      "I0000 00:00:1745887398.760467      19 gpu_device.cc:2022] Created device /job:localhost/replica:0/task:0/device:GPU:0 with 13942 MB memory:  -> device: 0, name: Tesla T4, pci bus id: 0000:00:04.0, compute capability: 7.5\n",
      "I0000 00:00:1745887398.761088      19 gpu_device.cc:2022] Created device /job:localhost/replica:0/task:0/device:GPU:1 with 13942 MB memory:  -> device: 1, name: Tesla T4, pci bus id: 0000:00:05.0, compute capability: 7.5\n"
     ]
    },
    {
     "name": "stdout",
     "output_type": "stream",
     "text": [
      "Epoch 1/20\n"
     ]
    },
    {
     "name": "stderr",
     "output_type": "stream",
     "text": [
      "WARNING: All log messages before absl::InitializeLog() is called are written to STDERR\n",
      "I0000 00:00:1745887401.670924      64 service.cc:148] XLA service 0x7d5f100042a0 initialized for platform CUDA (this does not guarantee that XLA will be used). Devices:\n",
      "I0000 00:00:1745887401.671730      64 service.cc:156]   StreamExecutor device (0): Tesla T4, Compute Capability 7.5\n",
      "I0000 00:00:1745887401.671751      64 service.cc:156]   StreamExecutor device (1): Tesla T4, Compute Capability 7.5\n",
      "I0000 00:00:1745887401.882956      64 cuda_dnn.cc:529] Loaded cuDNN version 90300\n"
     ]
    },
    {
     "name": "stdout",
     "output_type": "stream",
     "text": [
      "\u001b[1m115/509\u001b[0m \u001b[32m━━━━\u001b[0m\u001b[37m━━━━━━━━━━━━━━━━\u001b[0m \u001b[1m0s\u001b[0m 1ms/step - accuracy: 0.5266 - loss: 1.0213"
     ]
    },
    {
     "name": "stderr",
     "output_type": "stream",
     "text": [
      "I0000 00:00:1745887402.825743      64 device_compiler.h:188] Compiled cluster using XLA!  This line is logged at most once for the lifetime of the process.\n"
     ]
    },
    {
     "name": "stdout",
     "output_type": "stream",
     "text": [
      "\u001b[1m509/509\u001b[0m \u001b[32m━━━━━━━━━━━━━━━━━━━━\u001b[0m\u001b[37m\u001b[0m \u001b[1m4s\u001b[0m 3ms/step - accuracy: 0.6633 - loss: 0.7508 - val_accuracy: 0.8040 - val_loss: 0.4468\n",
      "Epoch 2/20\n",
      "\u001b[1m509/509\u001b[0m \u001b[32m━━━━━━━━━━━━━━━━━━━━\u001b[0m\u001b[37m\u001b[0m \u001b[1m1s\u001b[0m 2ms/step - accuracy: 0.8378 - loss: 0.3629 - val_accuracy: 0.8026 - val_loss: 0.4500\n",
      "Epoch 3/20\n",
      "\u001b[1m509/509\u001b[0m \u001b[32m━━━━━━━━━━━━━━━━━━━━\u001b[0m\u001b[37m\u001b[0m \u001b[1m1s\u001b[0m 2ms/step - accuracy: 0.8715 - loss: 0.2953 - val_accuracy: 0.8001 - val_loss: 0.4586\n",
      "Epoch 4/20\n",
      "\u001b[1m509/509\u001b[0m \u001b[32m━━━━━━━━━━━━━━━━━━━━\u001b[0m\u001b[37m\u001b[0m \u001b[1m1s\u001b[0m 2ms/step - accuracy: 0.9059 - loss: 0.2293 - val_accuracy: 0.7967 - val_loss: 0.5094\n",
      "Epoch 5/20\n",
      "\u001b[1m509/509\u001b[0m \u001b[32m━━━━━━━━━━━━━━━━━━━━\u001b[0m\u001b[37m\u001b[0m \u001b[1m1s\u001b[0m 2ms/step - accuracy: 0.9475 - loss: 0.1470 - val_accuracy: 0.8065 - val_loss: 0.5464\n",
      "Epoch 6/20\n",
      "\u001b[1m509/509\u001b[0m \u001b[32m━━━━━━━━━━━━━━━━━━━━\u001b[0m\u001b[37m\u001b[0m \u001b[1m1s\u001b[0m 2ms/step - accuracy: 0.9735 - loss: 0.0811 - val_accuracy: 0.7962 - val_loss: 0.6606\n",
      "Epoch 7/20\n",
      "\u001b[1m509/509\u001b[0m \u001b[32m━━━━━━━━━━━━━━━━━━━━\u001b[0m\u001b[37m\u001b[0m \u001b[1m1s\u001b[0m 2ms/step - accuracy: 0.9890 - loss: 0.0421 - val_accuracy: 0.7937 - val_loss: 0.7365\n",
      "Epoch 8/20\n",
      "\u001b[1m509/509\u001b[0m \u001b[32m━━━━━━━━━━━━━━━━━━━━\u001b[0m\u001b[37m\u001b[0m \u001b[1m1s\u001b[0m 2ms/step - accuracy: 0.9935 - loss: 0.0260 - val_accuracy: 0.7932 - val_loss: 0.8773\n",
      "Epoch 9/20\n",
      "\u001b[1m509/509\u001b[0m \u001b[32m━━━━━━━━━━━━━━━━━━━━\u001b[0m\u001b[37m\u001b[0m \u001b[1m1s\u001b[0m 2ms/step - accuracy: 0.9961 - loss: 0.0171 - val_accuracy: 0.8016 - val_loss: 0.9140\n",
      "Epoch 10/20\n",
      "\u001b[1m509/509\u001b[0m \u001b[32m━━━━━━━━━━━━━━━━━━━━\u001b[0m\u001b[37m\u001b[0m \u001b[1m1s\u001b[0m 2ms/step - accuracy: 0.9977 - loss: 0.0108 - val_accuracy: 0.8035 - val_loss: 0.9560\n",
      "Epoch 11/20\n",
      "\u001b[1m509/509\u001b[0m \u001b[32m━━━━━━━━━━━━━━━━━━━━\u001b[0m\u001b[37m\u001b[0m \u001b[1m1s\u001b[0m 2ms/step - accuracy: 0.9976 - loss: 0.0103 - val_accuracy: 0.8035 - val_loss: 0.9713\n",
      "Epoch 12/20\n",
      "\u001b[1m509/509\u001b[0m \u001b[32m━━━━━━━━━━━━━━━━━━━━\u001b[0m\u001b[37m\u001b[0m \u001b[1m1s\u001b[0m 2ms/step - accuracy: 0.9985 - loss: 0.0089 - val_accuracy: 0.7972 - val_loss: 1.0861\n",
      "Epoch 13/20\n",
      "\u001b[1m509/509\u001b[0m \u001b[32m━━━━━━━━━━━━━━━━━━━━\u001b[0m\u001b[37m\u001b[0m \u001b[1m1s\u001b[0m 2ms/step - accuracy: 0.9991 - loss: 0.0040 - val_accuracy: 0.8021 - val_loss: 1.1268\n",
      "Epoch 14/20\n",
      "\u001b[1m509/509\u001b[0m \u001b[32m━━━━━━━━━━━━━━━━━━━━\u001b[0m\u001b[37m\u001b[0m \u001b[1m1s\u001b[0m 2ms/step - accuracy: 0.9972 - loss: 0.0084 - val_accuracy: 0.8026 - val_loss: 1.1698\n",
      "Epoch 15/20\n",
      "\u001b[1m509/509\u001b[0m \u001b[32m━━━━━━━━━━━━━━━━━━━━\u001b[0m\u001b[37m\u001b[0m \u001b[1m1s\u001b[0m 2ms/step - accuracy: 0.9995 - loss: 0.0029 - val_accuracy: 0.8026 - val_loss: 1.2008\n",
      "Epoch 16/20\n",
      "\u001b[1m509/509\u001b[0m \u001b[32m━━━━━━━━━━━━━━━━━━━━\u001b[0m\u001b[37m\u001b[0m \u001b[1m1s\u001b[0m 2ms/step - accuracy: 0.9978 - loss: 0.0069 - val_accuracy: 0.7932 - val_loss: 1.1624\n",
      "Epoch 17/20\n",
      "\u001b[1m509/509\u001b[0m \u001b[32m━━━━━━━━━━━━━━━━━━━━\u001b[0m\u001b[37m\u001b[0m \u001b[1m1s\u001b[0m 2ms/step - accuracy: 0.9980 - loss: 0.0080 - val_accuracy: 0.8016 - val_loss: 1.2108\n",
      "Epoch 18/20\n",
      "\u001b[1m509/509\u001b[0m \u001b[32m━━━━━━━━━━━━━━━━━━━━\u001b[0m\u001b[37m\u001b[0m \u001b[1m1s\u001b[0m 2ms/step - accuracy: 0.9976 - loss: 0.0093 - val_accuracy: 0.8050 - val_loss: 1.2295\n",
      "Epoch 19/20\n",
      "\u001b[1m509/509\u001b[0m \u001b[32m━━━━━━━━━━━━━━━━━━━━\u001b[0m\u001b[37m\u001b[0m \u001b[1m1s\u001b[0m 2ms/step - accuracy: 0.9984 - loss: 0.0070 - val_accuracy: 0.7972 - val_loss: 1.3055\n",
      "Epoch 20/20\n",
      "\u001b[1m509/509\u001b[0m \u001b[32m━━━━━━━━━━━━━━━━━━━━\u001b[0m\u001b[37m\u001b[0m \u001b[1m1s\u001b[0m 2ms/step - accuracy: 0.9993 - loss: 0.0025 - val_accuracy: 0.8030 - val_loss: 1.2784\n",
      "\u001b[1m64/64\u001b[0m \u001b[32m━━━━━━━━━━━━━━━━━━━━\u001b[0m\u001b[37m\u001b[0m \u001b[1m1s\u001b[0m 5ms/step\n",
      "Accuracy: 0.8030451866404715\n",
      "\n",
      "Classification Report:\n",
      "               precision    recall  f1-score   support\n",
      "\n",
      "           0       0.95      0.93      0.94       686\n",
      "           1       0.70      0.74      0.72       670\n",
      "           2       0.76      0.74      0.75       680\n",
      "\n",
      "    accuracy                           0.80      2036\n",
      "   macro avg       0.81      0.80      0.80      2036\n",
      "weighted avg       0.81      0.80      0.80      2036\n",
      "\n"
     ]
    },
    {
     "data": {
      "image/png": "[encoded data removed]",
      "text/plain": [
       "<Figure size 800x600 with 2 Axes>"
      ]
     },
     "metadata": {},
     "output_type": "display_data"
    }
   ],
   "source": [
    "NN_model = train_nn(X_train, X_test, y_train, y_test, len(y_train.unique()))"
   ]
  }
 ],
 "metadata": {
  "kaggle": {
   "accelerator": "nvidiaTeslaT4",
   "dataSources": [
    {
     "datasetId": 3052448,
     "sourceId": 5245967,
     "sourceType": "datasetVersion"
    }
   ],
   "dockerImageVersionId": 31012,
   "isGpuEnabled": true,
   "isInternetEnabled": true,
   "language": "python",
   "sourceType": "notebook"
  },
  "kernelspec": {
   "display_name": "Python 3",
   "language": "python",
   "name": "python3"
  },
  "language_info": {
   "codemirror_mode": {
    "name": "ipython",
    "version": 3
   },
   "file_extension": ".py",
   "mimetype": "text/x-python",
   "name": "python",
   "nbconvert_exporter": "python",
   "pygments_lexer": "ipython3",
   "version": "3.11.11"
  },
  "papermill": {
   "default_parameters": {},
   "duration": 366.675878,
   "end_time": "2025-04-29T00:43:44.862709",
   "environment_variables": {},
   "exception": null,
   "input_path": "__notebook__.ipynb",
   "output_path": "__notebook__.ipynb",
   "parameters": {},
   "start_time": "2025-04-29T00:37:38.186831",
   "version": "2.6.0"
  }
 },
 "nbformat": 4,
 "nbformat_minor": 5
}
