{
 "cells": [
  {
   "cell_type": "code",
   "execution_count": 1,
   "id": "734f5d1f",
   "metadata": {
    "_cell_guid": "b1076dfc-b9ad-4769-8c92-a6c4dae69d19",
    "_uuid": "8f2839f25d086af736a60e9eeb907d3b93b6e0e5",
    "execution": {
     "iopub.execute_input": "2025-04-29T00:38:49.148534Z",
     "iopub.status.busy": "2025-04-29T00:38:49.148090Z",
     "iopub.status.idle": "2025-04-29T00:38:53.065693Z",
     "shell.execute_reply": "2025-04-29T00:38:53.064800Z"
    },
    "papermill": {
     "duration": 3.924549,
     "end_time": "2025-04-29T00:38:53.067259",
     "exception": false,
     "start_time": "2025-04-29T00:38:49.142710",
     "status": "completed"
    },
    "tags": []
   },
   "outputs": [],
   "source": [
    "import pandas as pd\n",
    "import numpy as np\n",
    "import matplotlib.pyplot as plt\n",
    "import seaborn as sns\n",
    "import ast"
   ]
  },
  {
   "cell_type": "code",
   "execution_count": 2,
   "id": "bdb67cda",
   "metadata": {
    "execution": {
     "iopub.execute_input": "2025-04-29T00:38:53.075793Z",
     "iopub.status.busy": "2025-04-29T00:38:53.075371Z",
     "iopub.status.idle": "2025-04-29T00:38:53.080531Z",
     "shell.execute_reply": "2025-04-29T00:38:53.079685Z"
    },
    "papermill": {
     "duration": 0.01069,
     "end_time": "2025-04-29T00:38:53.081953",
     "exception": false,
     "start_time": "2025-04-29T00:38:53.071263",
     "status": "completed"
    },
    "tags": []
   },
   "outputs": [],
   "source": [
    "def convert(df):\n",
    "    df = df.map({\n",
    "        'negative': 0,\n",
    "        'neutral': 1,\n",
    "        'positive': 2\n",
    "    })\n",
    "    return df"
   ]
  },
  {
   "cell_type": "code",
   "execution_count": 3,
   "id": "9c27840b",
   "metadata": {
    "execution": {
     "iopub.execute_input": "2025-04-29T00:38:53.089528Z",
     "iopub.status.busy": "2025-04-29T00:38:53.089185Z",
     "iopub.status.idle": "2025-04-29T00:38:56.850769Z",
     "shell.execute_reply": "2025-04-29T00:38:56.849999Z"
    },
    "papermill": {
     "duration": 3.767237,
     "end_time": "2025-04-29T00:38:56.852485",
     "exception": false,
     "start_time": "2025-04-29T00:38:53.085248",
     "status": "completed"
    },
    "tags": []
   },
   "outputs": [],
   "source": [
    "df_train = pd.read_csv('/kaggle/input/vietnamese-synthetic-with-embedding/synthetic_train.csv')\n",
    "df_test = pd.read_csv('/kaggle/input/vietnamese-synthetic-with-embedding/synthetic_val.csv')\n",
    "\n",
    "df_train['sentiment'] = convert(df_train['sentiment'])\n",
    "df_test['sentiment'] = convert(df_test['sentiment'])"
   ]
  },
  {
   "cell_type": "code",
   "execution_count": 4,
   "id": "66daf6f1",
   "metadata": {
    "execution": {
     "iopub.execute_input": "2025-04-29T00:38:56.860793Z",
     "iopub.status.busy": "2025-04-29T00:38:56.860393Z",
     "iopub.status.idle": "2025-04-29T00:38:56.885553Z",
     "shell.execute_reply": "2025-04-29T00:38:56.884786Z"
    },
    "papermill": {
     "duration": 0.031122,
     "end_time": "2025-04-29T00:38:56.887087",
     "exception": false,
     "start_time": "2025-04-29T00:38:56.855965",
     "status": "completed"
    },
    "tags": []
   },
   "outputs": [
    {
     "data": {
      "text/html": [
       "<div>\n",
       "<style scoped>\n",
       "    .dataframe tbody tr th:only-of-type {\n",
       "        vertical-align: middle;\n",
       "    }\n",
       "\n",
       "    .dataframe tbody tr th {\n",
       "        vertical-align: top;\n",
       "    }\n",
       "\n",
       "    .dataframe thead th {\n",
       "        text-align: right;\n",
       "    }\n",
       "</style>\n",
       "<table border=\"1\" class=\"dataframe\">\n",
       "  <thead>\n",
       "    <tr style=\"text-align: right;\">\n",
       "      <th></th>\n",
       "      <th>sentence</th>\n",
       "      <th>sentiment</th>\n",
       "      <th>topic</th>\n",
       "      <th>Embedding</th>\n",
       "    </tr>\n",
       "  </thead>\n",
       "  <tbody>\n",
       "    <tr>\n",
       "      <th>0</th>\n",
       "      <td>Đội ngũ bảo trì quá thưa thớt dẫn đến không đả...</td>\n",
       "      <td>0</td>\n",
       "      <td>facility</td>\n",
       "      <td>[ 2.19982073e-01  3.63517612e-01 -4.61064667e-...</td>\n",
       "    </tr>\n",
       "    <tr>\n",
       "      <th>1</th>\n",
       "      <td>The university's musical and artistic faciliti...</td>\n",
       "      <td>1</td>\n",
       "      <td>facility</td>\n",
       "      <td>[-6.98556229e-02  3.13316107e-01 -6.41901970e-...</td>\n",
       "    </tr>\n",
       "    <tr>\n",
       "      <th>2</th>\n",
       "      <td>Phương pháp giảng dạy phù hợp với các đối tượn...</td>\n",
       "      <td>1</td>\n",
       "      <td>curriculum</td>\n",
       "      <td>[ 3.66974548e-02 -1.62254930e-01 -4.80269253e-...</td>\n",
       "    </tr>\n",
       "    <tr>\n",
       "      <th>3</th>\n",
       "      <td>Chương trình học giúp tôi trở thành một chuyên...</td>\n",
       "      <td>2</td>\n",
       "      <td>curriculum</td>\n",
       "      <td>[ 2.30636820e-01  2.10734963e-01 -4.55003142e-...</td>\n",
       "    </tr>\n",
       "    <tr>\n",
       "      <th>4</th>\n",
       "      <td>Tôi nghĩ rằng chương trình đào tạo có thể có t...</td>\n",
       "      <td>1</td>\n",
       "      <td>curriculum</td>\n",
       "      <td>[ 2.79438913e-01  3.65758181e-01 -7.15621054e-...</td>\n",
       "    </tr>\n",
       "    <tr>\n",
       "      <th>...</th>\n",
       "      <td>...</td>\n",
       "      <td>...</td>\n",
       "      <td>...</td>\n",
       "      <td>...</td>\n",
       "    </tr>\n",
       "    <tr>\n",
       "      <th>8139</th>\n",
       "      <td>Hệ thống an ninh trong trường rất tốt và đảm b...</td>\n",
       "      <td>1</td>\n",
       "      <td>facility</td>\n",
       "      <td>[ 1.30174056e-01  2.53454953e-01 -3.22597384e-...</td>\n",
       "    </tr>\n",
       "    <tr>\n",
       "      <th>8140</th>\n",
       "      <td>Cô giáo đã giúp tôi hiểu rõ hơn về môn học này.</td>\n",
       "      <td>1</td>\n",
       "      <td>others</td>\n",
       "      <td>[ 3.46620709e-01 -1.32109657e-01 -4.93672311e-...</td>\n",
       "    </tr>\n",
       "    <tr>\n",
       "      <th>8141</th>\n",
       "      <td>Anh/chị đã trở thành một người bạn đồng hành v...</td>\n",
       "      <td>2</td>\n",
       "      <td>others</td>\n",
       "      <td>[ 2.67296940e-01 -1.49599472e-02 -5.56336522e-...</td>\n",
       "    </tr>\n",
       "    <tr>\n",
       "      <th>8142</th>\n",
       "      <td>Chương trình học phù hợp với nhu cầu của các n...</td>\n",
       "      <td>1</td>\n",
       "      <td>curriculum</td>\n",
       "      <td>[-1.13419928e-01  2.67758429e-01 -2.57066309e-...</td>\n",
       "    </tr>\n",
       "    <tr>\n",
       "      <th>8143</th>\n",
       "      <td>Tôi cần chuyển sang học tại đại học khác để đá...</td>\n",
       "      <td>0</td>\n",
       "      <td>curriculum</td>\n",
       "      <td>[ 3.79674584e-02  5.92611730e-02 -2.75395542e-...</td>\n",
       "    </tr>\n",
       "  </tbody>\n",
       "</table>\n",
       "<p>8144 rows × 4 columns</p>\n",
       "</div>"
      ],
      "text/plain": [
       "                                               sentence  sentiment  \\\n",
       "0     Đội ngũ bảo trì quá thưa thớt dẫn đến không đả...          0   \n",
       "1     The university's musical and artistic faciliti...          1   \n",
       "2     Phương pháp giảng dạy phù hợp với các đối tượn...          1   \n",
       "3     Chương trình học giúp tôi trở thành một chuyên...          2   \n",
       "4     Tôi nghĩ rằng chương trình đào tạo có thể có t...          1   \n",
       "...                                                 ...        ...   \n",
       "8139  Hệ thống an ninh trong trường rất tốt và đảm b...          1   \n",
       "8140    Cô giáo đã giúp tôi hiểu rõ hơn về môn học này.          1   \n",
       "8141  Anh/chị đã trở thành một người bạn đồng hành v...          2   \n",
       "8142  Chương trình học phù hợp với nhu cầu của các n...          1   \n",
       "8143  Tôi cần chuyển sang học tại đại học khác để đá...          0   \n",
       "\n",
       "           topic                                          Embedding  \n",
       "0       facility  [ 2.19982073e-01  3.63517612e-01 -4.61064667e-...  \n",
       "1       facility  [-6.98556229e-02  3.13316107e-01 -6.41901970e-...  \n",
       "2     curriculum  [ 3.66974548e-02 -1.62254930e-01 -4.80269253e-...  \n",
       "3     curriculum  [ 2.30636820e-01  2.10734963e-01 -4.55003142e-...  \n",
       "4     curriculum  [ 2.79438913e-01  3.65758181e-01 -7.15621054e-...  \n",
       "...          ...                                                ...  \n",
       "8139    facility  [ 1.30174056e-01  2.53454953e-01 -3.22597384e-...  \n",
       "8140      others  [ 3.46620709e-01 -1.32109657e-01 -4.93672311e-...  \n",
       "8141      others  [ 2.67296940e-01 -1.49599472e-02 -5.56336522e-...  \n",
       "8142  curriculum  [-1.13419928e-01  2.67758429e-01 -2.57066309e-...  \n",
       "8143  curriculum  [ 3.79674584e-02  5.92611730e-02 -2.75395542e-...  \n",
       "\n",
       "[8144 rows x 4 columns]"
      ]
     },
     "execution_count": 4,
     "metadata": {},
     "output_type": "execute_result"
    }
   ],
   "source": [
    "df_train"
   ]
  },
  {
   "cell_type": "code",
   "execution_count": 5,
   "id": "614c0d84",
   "metadata": {
    "execution": {
     "iopub.execute_input": "2025-04-29T00:38:56.895228Z",
     "iopub.status.busy": "2025-04-29T00:38:56.894917Z",
     "iopub.status.idle": "2025-04-29T00:38:59.050544Z",
     "shell.execute_reply": "2025-04-29T00:38:59.049702Z"
    },
    "papermill": {
     "duration": 2.161488,
     "end_time": "2025-04-29T00:38:59.052135",
     "exception": false,
     "start_time": "2025-04-29T00:38:56.890647",
     "status": "completed"
    },
    "tags": []
   },
   "outputs": [],
   "source": [
    "def parse_embedding_string(s):\n",
    "    # Bỏ dấu ngoặc vuông và split theo khoảng trắng\n",
    "    return np.array([float(x) for x in s.strip(\"[]\").split()])\n",
    "\n",
    "# Áp dụng vào cột\n",
    "X_train = np.vstack(df_train['Embedding'].apply(parse_embedding_string))\n",
    "X_test = np.vstack(df_test['Embedding'].apply(parse_embedding_string))\n",
    "\n",
    "y_train = df_train['sentiment']\n",
    "y_test = df_test['sentiment']"
   ]
  },
  {
   "cell_type": "code",
   "execution_count": 6,
   "id": "95e5599b",
   "metadata": {
    "execution": {
     "iopub.execute_input": "2025-04-29T00:38:59.062020Z",
     "iopub.status.busy": "2025-04-29T00:38:59.061720Z",
     "iopub.status.idle": "2025-04-29T00:38:59.067198Z",
     "shell.execute_reply": "2025-04-29T00:38:59.066300Z"
    },
    "papermill": {
     "duration": 0.011525,
     "end_time": "2025-04-29T00:38:59.068757",
     "exception": false,
     "start_time": "2025-04-29T00:38:59.057232",
     "status": "completed"
    },
    "tags": []
   },
   "outputs": [],
   "source": [
    "def plot_cm(model, y_test, y_pred, model_name):\n",
    "    cm = confusion_matrix(y_test, y_pred)\n",
    "\n",
    "    labels = model.classes_\n",
    "    plt.figure(figsize=(8, 6))\n",
    "    sns.heatmap(cm, annot=True, fmt='d', cmap='Greens',\n",
    "                xticklabels=labels, yticklabels=labels)\n",
    "    plt.xlabel('Predicted')\n",
    "    plt.ylabel('Actual')\n",
    "    plt.title(f'Confusion Matrix - {model_name}')\n",
    "    plt.show()\n"
   ]
  },
  {
   "cell_type": "code",
   "execution_count": 7,
   "id": "33ae1cbd",
   "metadata": {
    "execution": {
     "iopub.execute_input": "2025-04-29T00:38:59.077111Z",
     "iopub.status.busy": "2025-04-29T00:38:59.076785Z",
     "iopub.status.idle": "2025-04-29T00:38:59.837473Z",
     "shell.execute_reply": "2025-04-29T00:38:59.836407Z"
    },
    "papermill": {
     "duration": 0.766775,
     "end_time": "2025-04-29T00:38:59.839130",
     "exception": false,
     "start_time": "2025-04-29T00:38:59.072355",
     "status": "completed"
    },
    "tags": []
   },
   "outputs": [],
   "source": [
    "from sklearn.ensemble import RandomForestClassifier\n",
    "from sklearn.metrics import accuracy_score, confusion_matrix, classification_report\n",
    "\n",
    "def train_rf(X_train, X_test, y_train, y_test):\n",
    "    model = RandomForestClassifier(n_estimators=100, random_state=42)\n",
    "    model.fit(X_train, y_train)\n",
    "\n",
    "    y_pred = model.predict(X_test)\n",
    "\n",
    "    print(\"\\nClassification Report:\\n\", classification_report(y_test, y_pred))\n",
    "\n",
    "    plot_cm(model, y_test, y_pred, 'RandomForestClassifier')\n",
    "    return model"
   ]
  },
  {
   "cell_type": "code",
   "execution_count": 8,
   "id": "52e8ebc5",
   "metadata": {
    "execution": {
     "iopub.execute_input": "2025-04-29T00:38:59.847388Z",
     "iopub.status.busy": "2025-04-29T00:38:59.847023Z",
     "iopub.status.idle": "2025-04-29T00:39:24.177362Z",
     "shell.execute_reply": "2025-04-29T00:39:24.176456Z"
    },
    "papermill": {
     "duration": 24.33619,
     "end_time": "2025-04-29T00:39:24.178864",
     "exception": false,
     "start_time": "2025-04-29T00:38:59.842674",
     "status": "completed"
    },
    "tags": []
   },
   "outputs": [
    {
     "name": "stdout",
     "output_type": "stream",
     "text": [
      "\n",
      "Classification Report:\n",
      "               precision    recall  f1-score   support\n",
      "\n",
      "           0       0.91      0.97      0.94       686\n",
      "           1       0.75      0.69      0.72       670\n",
      "           2       0.76      0.76      0.76       680\n",
      "\n",
      "    accuracy                           0.81      2036\n",
      "   macro avg       0.80      0.81      0.81      2036\n",
      "weighted avg       0.80      0.81      0.81      2036\n",
      "\n"
     ]
    },
    {
     "data": {
      "image/png": "[encoded data removed]",
      "text/plain": [
       "<Figure size 800x600 with 2 Axes>"
      ]
     },
     "metadata": {},
     "output_type": "display_data"
    }
   ],
   "source": [
    "rf_model = train_rf(X_train, X_test, y_train, y_test)"
   ]
  },
  {
   "cell_type": "code",
   "execution_count": 9,
   "id": "a011a002",
   "metadata": {
    "execution": {
     "iopub.execute_input": "2025-04-29T00:39:24.189327Z",
     "iopub.status.busy": "2025-04-29T00:39:24.188317Z",
     "iopub.status.idle": "2025-04-29T00:39:24.194535Z",
     "shell.execute_reply": "2025-04-29T00:39:24.193727Z"
    },
    "papermill": {
     "duration": 0.012904,
     "end_time": "2025-04-29T00:39:24.196067",
     "exception": false,
     "start_time": "2025-04-29T00:39:24.183163",
     "status": "completed"
    },
    "tags": []
   },
   "outputs": [],
   "source": [
    "from sklearn.svm import SVC\n",
    "from sklearn.metrics import accuracy_score, confusion_matrix, classification_report\n",
    "import seaborn as sns\n",
    "import matplotlib.pyplot as plt\n",
    "\n",
    "def train_svm(X_train, X_test, y_train, y_test):\n",
    "    model = SVC(kernel='linear', probability=True, random_state=42)  # Có thể đổi kernel\n",
    "    model.fit(X_train, y_train)\n",
    "\n",
    "    y_pred = model.predict(X_test)\n",
    "\n",
    "    print(\"\\nClassification Report:\\n\", classification_report(y_test, y_pred))\n",
    "\n",
    "    plot_cm(model, y_test, y_pred, 'SVM')\n",
    "    return model"
   ]
  },
  {
   "cell_type": "code",
   "execution_count": 10,
   "id": "4049ae3a",
   "metadata": {
    "execution": {
     "iopub.execute_input": "2025-04-29T00:39:24.205713Z",
     "iopub.status.busy": "2025-04-29T00:39:24.205380Z",
     "iopub.status.idle": "2025-04-29T00:40:41.675263Z",
     "shell.execute_reply": "2025-04-29T00:40:41.674438Z"
    },
    "papermill": {
     "duration": 77.476581,
     "end_time": "2025-04-29T00:40:41.676945",
     "exception": false,
     "start_time": "2025-04-29T00:39:24.200364",
     "status": "completed"
    },
    "tags": []
   },
   "outputs": [
    {
     "name": "stdout",
     "output_type": "stream",
     "text": [
      "\n",
      "Classification Report:\n",
      "               precision    recall  f1-score   support\n",
      "\n",
      "           0       0.96      0.97      0.97       686\n",
      "           1       0.77      0.74      0.75       670\n",
      "           2       0.78      0.80      0.79       680\n",
      "\n",
      "    accuracy                           0.84      2036\n",
      "   macro avg       0.84      0.84      0.84      2036\n",
      "weighted avg       0.84      0.84      0.84      2036\n",
      "\n"
     ]
    },
    {
     "data": {
      "image/png": "[encoded data removed]",
      "text/plain": [
       "<Figure size 800x600 with 2 Axes>"
      ]
     },
     "metadata": {},
     "output_type": "display_data"
    }
   ],
   "source": [
    "svm_model = train_svm(X_train, X_test, y_train, y_test)"
   ]
  },
  {
   "cell_type": "code",
   "execution_count": 11,
   "id": "72abb506",
   "metadata": {
    "execution": {
     "iopub.execute_input": "2025-04-29T00:40:41.687212Z",
     "iopub.status.busy": "2025-04-29T00:40:41.686897Z",
     "iopub.status.idle": "2025-04-29T00:40:41.944915Z",
     "shell.execute_reply": "2025-04-29T00:40:41.944142Z"
    },
    "papermill": {
     "duration": 0.265041,
     "end_time": "2025-04-29T00:40:41.946620",
     "exception": false,
     "start_time": "2025-04-29T00:40:41.681579",
     "status": "completed"
    },
    "tags": []
   },
   "outputs": [],
   "source": [
    "from xgboost import XGBClassifier\n",
    "from sklearn.metrics import classification_report, confusion_matrix\n",
    "import seaborn as sns\n",
    "import matplotlib.pyplot as plt\n",
    "\n",
    "def train_xgboost(X_train, X_test, y_train, y_test):\n",
    "    num_classes = len(set(y_train))  # Số lớp\n",
    "\n",
    "    model = XGBClassifier(\n",
    "        objective='multi:softprob',\n",
    "        num_class=num_classes,\n",
    "        use_label_encoder=False,\n",
    "        eval_metric='mlogloss',\n",
    "        random_state=42\n",
    "    )\n",
    "\n",
    "    model.fit(X_train, y_train)\n",
    "\n",
    "    y_pred = model.predict(X_test)\n",
    "\n",
    "    print(\"\\nClassification Report:\\n\", classification_report(y_test, y_pred))\n",
    "    \n",
    "    plot_cm(model, y_test, y_pred, 'XGBoost')\n",
    "    return model"
   ]
  },
  {
   "cell_type": "code",
   "execution_count": 12,
   "id": "6b969043",
   "metadata": {
    "execution": {
     "iopub.execute_input": "2025-04-29T00:40:41.957230Z",
     "iopub.status.busy": "2025-04-29T00:40:41.956919Z",
     "iopub.status.idle": "2025-04-29T00:41:27.697888Z",
     "shell.execute_reply": "2025-04-29T00:41:27.696832Z"
    },
    "papermill": {
     "duration": 45.75081,
     "end_time": "2025-04-29T00:41:27.702201",
     "exception": false,
     "start_time": "2025-04-29T00:40:41.951391",
     "status": "completed"
    },
    "tags": []
   },
   "outputs": [
    {
     "name": "stdout",
     "output_type": "stream",
     "text": [
      "\n",
      "Classification Report:\n",
      "               precision    recall  f1-score   support\n",
      "\n",
      "           0       0.94      0.97      0.96       686\n",
      "           1       0.77      0.75      0.76       670\n",
      "           2       0.79      0.79      0.79       680\n",
      "\n",
      "    accuracy                           0.84      2036\n",
      "   macro avg       0.84      0.84      0.84      2036\n",
      "weighted avg       0.84      0.84      0.84      2036\n",
      "\n"
     ]
    },
    {
     "data": {
      "image/png": "[encoded data removed]",
      "text/plain": [
       "<Figure size 800x600 with 2 Axes>"
      ]
     },
     "metadata": {},
     "output_type": "display_data"
    }
   ],
   "source": [
    "xgb_model = train_xgboost(X_train, X_test, y_train, y_test)"
   ]
  },
  {
   "cell_type": "code",
   "execution_count": 13,
   "id": "df583fc1",
   "metadata": {
    "execution": {
     "iopub.execute_input": "2025-04-29T00:41:27.713759Z",
     "iopub.status.busy": "2025-04-29T00:41:27.713427Z",
     "iopub.status.idle": "2025-04-29T00:41:44.216306Z",
     "shell.execute_reply": "2025-04-29T00:41:44.215016Z"
    },
    "papermill": {
     "duration": 16.510717,
     "end_time": "2025-04-29T00:41:44.218143",
     "exception": false,
     "start_time": "2025-04-29T00:41:27.707426",
     "status": "completed"
    },
    "tags": []
   },
   "outputs": [
    {
     "name": "stderr",
     "output_type": "stream",
     "text": [
      "2025-04-29 00:41:29.531631: E external/local_xla/xla/stream_executor/cuda/cuda_fft.cc:477] Unable to register cuFFT factory: Attempting to register factory for plugin cuFFT when one has already been registered\n",
      "WARNING: All log messages before absl::InitializeLog() is called are written to STDERR\n",
      "E0000 00:00:1745887289.775254      13 cuda_dnn.cc:8310] Unable to register cuDNN factory: Attempting to register factory for plugin cuDNN when one has already been registered\n",
      "E0000 00:00:1745887289.840576      13 cuda_blas.cc:1418] Unable to register cuBLAS factory: Attempting to register factory for plugin cuBLAS when one has already been registered\n"
     ]
    }
   ],
   "source": [
    "import tensorflow as tf\n",
    "from tensorflow.keras.models import Sequential\n",
    "from tensorflow.keras.layers import Dense\n",
    "from tensorflow.keras.optimizers import Adam\n",
    "from sklearn.metrics import accuracy_score, confusion_matrix, classification_report\n",
    "import matplotlib.pyplot as plt\n",
    "import seaborn as sns\n",
    "\n",
    "def train_nn(X_train, X_test, y_train, y_test, num_classes):\n",
    "    # Xây dựng mô hình\n",
    "    model = Sequential()\n",
    "    model.add(Dense(256, activation='relu', input_shape=(X_train.shape[1],)))\n",
    "    model.add(Dense(64, activation='relu'))\n",
    "    model.add(Dense(num_classes, activation='softmax'))  # softmax cho multi-class classification\n",
    "\n",
    "    # Compile mô hình\n",
    "    model.compile(optimizer=Adam(learning_rate=0.001),\n",
    "                  loss='sparse_categorical_crossentropy',  # Nếu y là số nguyên (0,1,2..)\n",
    "                  metrics=['accuracy'])\n",
    "\n",
    "    # Huấn luyện mô hình\n",
    "    history = model.fit(X_train, y_train, epochs=20, batch_size=16, validation_data=(X_test, y_test), verbose=1)\n",
    "\n",
    "    # Dự đoán\n",
    "    y_pred = model.predict(X_test)\n",
    "    y_pred_classes = y_pred.argmax(axis=1)\n",
    "\n",
    "    # Đánh giá\n",
    "    print(\"Accuracy:\", accuracy_score(y_test, y_pred_classes))\n",
    "    print(\"\\nClassification Report:\\n\", classification_report(y_test, y_pred_classes))\n",
    "\n",
    "    # Confusion Matrix\n",
    "    cm = confusion_matrix(y_test, y_pred_classes)\n",
    "    labels = list(range(num_classes))\n",
    "\n",
    "    plt.figure(figsize=(8, 6))\n",
    "    sns.heatmap(cm, annot=True, fmt='d', cmap='Greens',\n",
    "                xticklabels=labels, yticklabels=labels)\n",
    "    plt.xlabel('Predicted')\n",
    "    plt.ylabel('Actual')\n",
    "    plt.title('Confusion Matrix - Neural Network')\n",
    "    plt.show()\n",
    "\n",
    "    return model\n"
   ]
  },
  {
   "cell_type": "code",
   "execution_count": 14,
   "id": "b38b9b53",
   "metadata": {
    "execution": {
     "iopub.execute_input": "2025-04-29T00:41:44.230218Z",
     "iopub.status.busy": "2025-04-29T00:41:44.229609Z",
     "iopub.status.idle": "2025-04-29T00:42:23.812565Z",
     "shell.execute_reply": "2025-04-29T00:42:23.811544Z"
    },
    "papermill": {
     "duration": 39.5907,
     "end_time": "2025-04-29T00:42:23.814226",
     "exception": false,
     "start_time": "2025-04-29T00:41:44.223526",
     "status": "completed"
    },
    "tags": []
   },
   "outputs": [
    {
     "name": "stderr",
     "output_type": "stream",
     "text": [
      "/usr/local/lib/python3.11/dist-packages/keras/src/layers/core/dense.py:87: UserWarning: Do not pass an `input_shape`/`input_dim` argument to a layer. When using Sequential models, prefer using an `Input(shape)` object as the first layer in the model instead.\n",
      "  super().__init__(activity_regularizer=activity_regularizer, **kwargs)\n",
      "2025-04-29 00:41:44.244506: E external/local_xla/xla/stream_executor/cuda/cuda_driver.cc:152] failed call to cuInit: INTERNAL: CUDA error: Failed call to cuInit: UNKNOWN ERROR (303)\n"
     ]
    },
    {
     "name": "stdout",
     "output_type": "stream",
     "text": [
      "Epoch 1/20\n",
      "\u001b[1m509/509\u001b[0m \u001b[32m━━━━━━━━━━━━━━━━━━━━\u001b[0m\u001b[37m\u001b[0m \u001b[1m4s\u001b[0m 4ms/step - accuracy: 0.6630 - loss: 0.6744 - val_accuracy: 0.8301 - val_loss: 0.3969\n",
      "Epoch 2/20\n",
      "\u001b[1m509/509\u001b[0m \u001b[32m━━━━━━━━━━━━━━━━━━━━\u001b[0m\u001b[37m\u001b[0m \u001b[1m2s\u001b[0m 4ms/step - accuracy: 0.7948 - loss: 0.4138 - val_accuracy: 0.8178 - val_loss: 0.4232\n",
      "Epoch 3/20\n",
      "\u001b[1m509/509\u001b[0m \u001b[32m━━━━━━━━━━━━━━━━━━━━\u001b[0m\u001b[37m\u001b[0m \u001b[1m2s\u001b[0m 4ms/step - accuracy: 0.8104 - loss: 0.3874 - val_accuracy: 0.8423 - val_loss: 0.3548\n",
      "Epoch 4/20\n",
      "\u001b[1m509/509\u001b[0m \u001b[32m━━━━━━━━━━━━━━━━━━━━\u001b[0m\u001b[37m\u001b[0m \u001b[1m2s\u001b[0m 4ms/step - accuracy: 0.8208 - loss: 0.3654 - val_accuracy: 0.8227 - val_loss: 0.3968\n",
      "Epoch 5/20\n",
      "\u001b[1m509/509\u001b[0m \u001b[32m━━━━━━━━━━━━━━━━━━━━\u001b[0m\u001b[37m\u001b[0m \u001b[1m2s\u001b[0m 4ms/step - accuracy: 0.8280 - loss: 0.3526 - val_accuracy: 0.7996 - val_loss: 0.3900\n",
      "Epoch 6/20\n",
      "\u001b[1m509/509\u001b[0m \u001b[32m━━━━━━━━━━━━━━━━━━━━\u001b[0m\u001b[37m\u001b[0m \u001b[1m2s\u001b[0m 4ms/step - accuracy: 0.8419 - loss: 0.3266 - val_accuracy: 0.8340 - val_loss: 0.3636\n",
      "Epoch 7/20\n",
      "\u001b[1m509/509\u001b[0m \u001b[32m━━━━━━━━━━━━━━━━━━━━\u001b[0m\u001b[37m\u001b[0m \u001b[1m2s\u001b[0m 4ms/step - accuracy: 0.8466 - loss: 0.3225 - val_accuracy: 0.8163 - val_loss: 0.4308\n",
      "Epoch 8/20\n",
      "\u001b[1m509/509\u001b[0m \u001b[32m━━━━━━━━━━━━━━━━━━━━\u001b[0m\u001b[37m\u001b[0m \u001b[1m2s\u001b[0m 4ms/step - accuracy: 0.8510 - loss: 0.3132 - val_accuracy: 0.8315 - val_loss: 0.3657\n",
      "Epoch 9/20\n",
      "\u001b[1m509/509\u001b[0m \u001b[32m━━━━━━━━━━━━━━━━━━━━\u001b[0m\u001b[37m\u001b[0m \u001b[1m2s\u001b[0m 4ms/step - accuracy: 0.8496 - loss: 0.3117 - val_accuracy: 0.8281 - val_loss: 0.3521\n",
      "Epoch 10/20\n",
      "\u001b[1m509/509\u001b[0m \u001b[32m━━━━━━━━━━━━━━━━━━━━\u001b[0m\u001b[37m\u001b[0m \u001b[1m2s\u001b[0m 4ms/step - accuracy: 0.8520 - loss: 0.3050 - val_accuracy: 0.8340 - val_loss: 0.3701\n",
      "Epoch 11/20\n",
      "\u001b[1m509/509\u001b[0m \u001b[32m━━━━━━━━━━━━━━━━━━━━\u001b[0m\u001b[37m\u001b[0m \u001b[1m2s\u001b[0m 4ms/step - accuracy: 0.8570 - loss: 0.3030 - val_accuracy: 0.8438 - val_loss: 0.3474\n",
      "Epoch 12/20\n",
      "\u001b[1m509/509\u001b[0m \u001b[32m━━━━━━━━━━━━━━━━━━━━\u001b[0m\u001b[37m\u001b[0m \u001b[1m2s\u001b[0m 3ms/step - accuracy: 0.8586 - loss: 0.2873 - val_accuracy: 0.8364 - val_loss: 0.3456\n",
      "Epoch 13/20\n",
      "\u001b[1m509/509\u001b[0m \u001b[32m━━━━━━━━━━━━━━━━━━━━\u001b[0m\u001b[37m\u001b[0m \u001b[1m2s\u001b[0m 4ms/step - accuracy: 0.8750 - loss: 0.2718 - val_accuracy: 0.8197 - val_loss: 0.5190\n",
      "Epoch 14/20\n",
      "\u001b[1m509/509\u001b[0m \u001b[32m━━━━━━━━━━━━━━━━━━━━\u001b[0m\u001b[37m\u001b[0m \u001b[1m2s\u001b[0m 4ms/step - accuracy: 0.8750 - loss: 0.2743 - val_accuracy: 0.8487 - val_loss: 0.3205\n",
      "Epoch 15/20\n",
      "\u001b[1m509/509\u001b[0m \u001b[32m━━━━━━━━━━━━━━━━━━━━\u001b[0m\u001b[37m\u001b[0m \u001b[1m2s\u001b[0m 4ms/step - accuracy: 0.8768 - loss: 0.2567 - val_accuracy: 0.8507 - val_loss: 0.3319\n",
      "Epoch 16/20\n",
      "\u001b[1m509/509\u001b[0m \u001b[32m━━━━━━━━━━━━━━━━━━━━\u001b[0m\u001b[37m\u001b[0m \u001b[1m2s\u001b[0m 4ms/step - accuracy: 0.8787 - loss: 0.2480 - val_accuracy: 0.8384 - val_loss: 0.3691\n",
      "Epoch 17/20\n",
      "\u001b[1m509/509\u001b[0m \u001b[32m━━━━━━━━━━━━━━━━━━━━\u001b[0m\u001b[37m\u001b[0m \u001b[1m2s\u001b[0m 3ms/step - accuracy: 0.8797 - loss: 0.2499 - val_accuracy: 0.8320 - val_loss: 0.3988\n",
      "Epoch 18/20\n",
      "\u001b[1m509/509\u001b[0m \u001b[32m━━━━━━━━━━━━━━━━━━━━\u001b[0m\u001b[37m\u001b[0m \u001b[1m2s\u001b[0m 4ms/step - accuracy: 0.8823 - loss: 0.2492 - val_accuracy: 0.8482 - val_loss: 0.3459\n",
      "Epoch 19/20\n",
      "\u001b[1m509/509\u001b[0m \u001b[32m━━━━━━━━━━━━━━━━━━━━\u001b[0m\u001b[37m\u001b[0m \u001b[1m2s\u001b[0m 4ms/step - accuracy: 0.8928 - loss: 0.2342 - val_accuracy: 0.8438 - val_loss: 0.3609\n",
      "Epoch 20/20\n",
      "\u001b[1m509/509\u001b[0m \u001b[32m━━━━━━━━━━━━━━━━━━━━\u001b[0m\u001b[37m\u001b[0m \u001b[1m2s\u001b[0m 4ms/step - accuracy: 0.8910 - loss: 0.2347 - val_accuracy: 0.8374 - val_loss: 0.3956\n",
      "\u001b[1m64/64\u001b[0m \u001b[32m━━━━━━━━━━━━━━━━━━━━\u001b[0m\u001b[37m\u001b[0m \u001b[1m0s\u001b[0m 2ms/step\n",
      "Accuracy: 0.837426326129666\n",
      "\n",
      "Classification Report:\n",
      "               precision    recall  f1-score   support\n",
      "\n",
      "           0       0.94      0.99      0.96       686\n",
      "           1       0.80      0.70      0.75       670\n",
      "           2       0.77      0.81      0.79       680\n",
      "\n",
      "    accuracy                           0.84      2036\n",
      "   macro avg       0.83      0.84      0.83      2036\n",
      "weighted avg       0.84      0.84      0.83      2036\n",
      "\n"
     ]
    },
    {
     "data": {
      "image/png": "[encoded data removed]",
      "text/plain": [
       "<Figure size 800x600 with 2 Axes>"
      ]
     },
     "metadata": {},
     "output_type": "display_data"
    }
   ],
   "source": [
    "NN_model = train_nn(X_train, X_test, y_train, y_test, len(y_train.unique()))"
   ]
  }
 ],
 "metadata": {
  "kaggle": {
   "accelerator": "none",
   "dataSources": [
    {
     "datasetId": 7249998,
     "sourceId": 11562919,
     "sourceType": "datasetVersion"
    }
   ],
   "dockerImageVersionId": 31011,
   "isGpuEnabled": false,
   "isInternetEnabled": true,
   "language": "python",
   "sourceType": "notebook"
  },
  "kernelspec": {
   "display_name": "Python 3",
   "language": "python",
   "name": "python3"
  },
  "language_info": {
   "codemirror_mode": {
    "name": "ipython",
    "version": 3
   },
   "file_extension": ".py",
   "mimetype": "text/x-python",
   "name": "python",
   "nbconvert_exporter": "python",
   "pygments_lexer": "ipython3",
   "version": "3.11.11"
  },
  "papermill": {
   "default_parameters": {},
   "duration": 223.324133,
   "end_time": "2025-04-29T00:42:27.377936",
   "environment_variables": {},
   "exception": null,
   "input_path": "__notebook__.ipynb",
   "output_path": "__notebook__.ipynb",
   "parameters": {},
   "start_time": "2025-04-29T00:38:44.053803",
   "version": "2.6.0"
  }
 },
 "nbformat": 4,
 "nbformat_minor": 5
}
